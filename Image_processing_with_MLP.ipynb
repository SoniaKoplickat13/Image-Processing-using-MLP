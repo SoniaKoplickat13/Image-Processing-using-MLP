{
  "nbformat": 4,
  "nbformat_minor": 0,
  "metadata": {
    "colab": {
      "provenance": [],
      "collapsed_sections": [],
      "include_colab_link": true
    },
    "kernelspec": {
      "name": "python3",
      "display_name": "Python 3"
    },
    "language_info": {
      "name": "python"
    }
  },
  "cells": [
    {
      "cell_type": "markdown",
      "metadata": {
        "id": "view-in-github",
        "colab_type": "text"
      },
      "source": [
        "<a href=\"https://colab.research.google.com/github/SoniaKoplickat13/Image-Processing-using-MLP/blob/main/Image_processing_with_MLP.ipynb\" target=\"_parent\"><img src=\"https://colab.research.google.com/assets/colab-badge.svg\" alt=\"Open In Colab\"/></a>"
      ]
    },
    {
      "cell_type": "code",
      "execution_count": null,
      "metadata": {
        "colab": {
          "base_uri": "https://localhost:8080/"
        },
        "id": "cxnFbRAhvaSg",
        "outputId": "f4de9ab2-db49-4caa-e202-9a5bf67b1b5c"
      },
      "outputs": [
        {
          "output_type": "stream",
          "name": "stdout",
          "text": [
            "Mounted at /content/gdrive\n"
          ]
        }
      ],
      "source": [
        "# Setting up google drive \n",
        "from google.colab import drive\n",
        "drive.mount('/content/gdrive', force_remount=True)\n",
        "import sys\n",
        "sys.path.append('/content/gdrive/MyDrive/Colab Notebooks')"
      ]
    },
    {
      "cell_type": "code",
      "source": [
        "#Code 1\n",
        "import my_utils as mu \n",
        "import torch \n",
        "from torch import nn \n",
        "from IPython import display\n",
        "import torchvision.transforms as transforms"
      ],
      "metadata": {
        "id": "rzvXN5iBvpjE"
      },
      "execution_count": null,
      "outputs": []
    },
    {
      "cell_type": "code",
      "source": [
        "#Code 2\n",
        "batch_size = 256\n",
        "fashion_train_iter, fashion_test_iter = mu.load_data_fashion_mnist(batch_size)\n"
      ],
      "metadata": {
        "colab": {
          "base_uri": "https://localhost:8080/"
        },
        "id": "2DwyYszT6DrA",
        "outputId": "c8be20bc-ce07-40b7-bb25-c9bd403d70d1"
      },
      "execution_count": null,
      "outputs": [
        {
          "output_type": "stream",
          "name": "stderr",
          "text": [
            "/usr/local/lib/python3.7/dist-packages/torch/utils/data/dataloader.py:481: UserWarning: This DataLoader will create 4 worker processes in total. Our suggested max number of worker in current system is 2, which is smaller than what this DataLoader is going to create. Please be aware that excessive worker creation might get DataLoader running slow or even freeze, lower the worker number to avoid potential slowness/freeze if necessary.\n",
            "  cpuset_checked))\n"
          ]
        }
      ]
    },
    {
      "cell_type": "code",
      "source": [
        "#Code 3\n",
        "for i in fashion_train_iter:\n",
        "  print(i[0].shape)"
      ],
      "metadata": {
        "colab": {
          "base_uri": "https://localhost:8080/"
        },
        "id": "k5XlhHPg6KxB",
        "outputId": "168231d2-6374-4421-e4fc-02b4d190ada5"
      },
      "execution_count": null,
      "outputs": [
        {
          "output_type": "stream",
          "name": "stderr",
          "text": [
            "/usr/local/lib/python3.7/dist-packages/torch/utils/data/dataloader.py:481: UserWarning: This DataLoader will create 4 worker processes in total. Our suggested max number of worker in current system is 2, which is smaller than what this DataLoader is going to create. Please be aware that excessive worker creation might get DataLoader running slow or even freeze, lower the worker number to avoid potential slowness/freeze if necessary.\n",
            "  cpuset_checked))\n"
          ]
        },
        {
          "output_type": "stream",
          "name": "stdout",
          "text": [
            "torch.Size([256, 1, 28, 28])\n",
            "torch.Size([256, 1, 28, 28])\n",
            "torch.Size([256, 1, 28, 28])\n",
            "torch.Size([256, 1, 28, 28])\n",
            "torch.Size([256, 1, 28, 28])\n",
            "torch.Size([256, 1, 28, 28])\n",
            "torch.Size([256, 1, 28, 28])\n",
            "torch.Size([256, 1, 28, 28])\n",
            "torch.Size([256, 1, 28, 28])\n",
            "torch.Size([256, 1, 28, 28])\n",
            "torch.Size([256, 1, 28, 28])\n",
            "torch.Size([256, 1, 28, 28])\n",
            "torch.Size([256, 1, 28, 28])\n",
            "torch.Size([256, 1, 28, 28])\n",
            "torch.Size([256, 1, 28, 28])\n",
            "torch.Size([256, 1, 28, 28])\n",
            "torch.Size([256, 1, 28, 28])\n",
            "torch.Size([256, 1, 28, 28])\n",
            "torch.Size([256, 1, 28, 28])\n",
            "torch.Size([256, 1, 28, 28])\n",
            "torch.Size([256, 1, 28, 28])\n",
            "torch.Size([256, 1, 28, 28])\n",
            "torch.Size([256, 1, 28, 28])\n",
            "torch.Size([256, 1, 28, 28])\n",
            "torch.Size([256, 1, 28, 28])\n",
            "torch.Size([256, 1, 28, 28])\n",
            "torch.Size([256, 1, 28, 28])\n",
            "torch.Size([256, 1, 28, 28])\n",
            "torch.Size([256, 1, 28, 28])\n",
            "torch.Size([256, 1, 28, 28])\n",
            "torch.Size([256, 1, 28, 28])\n",
            "torch.Size([256, 1, 28, 28])\n",
            "torch.Size([256, 1, 28, 28])\n",
            "torch.Size([256, 1, 28, 28])\n",
            "torch.Size([256, 1, 28, 28])\n",
            "torch.Size([256, 1, 28, 28])\n",
            "torch.Size([256, 1, 28, 28])\n",
            "torch.Size([256, 1, 28, 28])\n",
            "torch.Size([256, 1, 28, 28])\n",
            "torch.Size([256, 1, 28, 28])\n",
            "torch.Size([256, 1, 28, 28])\n",
            "torch.Size([256, 1, 28, 28])\n",
            "torch.Size([256, 1, 28, 28])\n",
            "torch.Size([256, 1, 28, 28])\n",
            "torch.Size([256, 1, 28, 28])\n",
            "torch.Size([256, 1, 28, 28])\n",
            "torch.Size([256, 1, 28, 28])\n",
            "torch.Size([256, 1, 28, 28])\n",
            "torch.Size([256, 1, 28, 28])\n",
            "torch.Size([256, 1, 28, 28])\n",
            "torch.Size([256, 1, 28, 28])\n",
            "torch.Size([256, 1, 28, 28])\n",
            "torch.Size([256, 1, 28, 28])\n",
            "torch.Size([256, 1, 28, 28])\n",
            "torch.Size([256, 1, 28, 28])\n",
            "torch.Size([256, 1, 28, 28])\n",
            "torch.Size([256, 1, 28, 28])\n",
            "torch.Size([256, 1, 28, 28])\n",
            "torch.Size([256, 1, 28, 28])\n",
            "torch.Size([256, 1, 28, 28])\n",
            "torch.Size([256, 1, 28, 28])\n",
            "torch.Size([256, 1, 28, 28])\n",
            "torch.Size([256, 1, 28, 28])\n",
            "torch.Size([256, 1, 28, 28])\n",
            "torch.Size([256, 1, 28, 28])\n",
            "torch.Size([256, 1, 28, 28])\n",
            "torch.Size([256, 1, 28, 28])\n",
            "torch.Size([256, 1, 28, 28])\n",
            "torch.Size([256, 1, 28, 28])\n",
            "torch.Size([256, 1, 28, 28])\n",
            "torch.Size([256, 1, 28, 28])\n",
            "torch.Size([256, 1, 28, 28])\n",
            "torch.Size([256, 1, 28, 28])\n",
            "torch.Size([256, 1, 28, 28])\n",
            "torch.Size([256, 1, 28, 28])\n",
            "torch.Size([256, 1, 28, 28])\n",
            "torch.Size([256, 1, 28, 28])\n",
            "torch.Size([256, 1, 28, 28])\n",
            "torch.Size([256, 1, 28, 28])\n",
            "torch.Size([256, 1, 28, 28])\n",
            "torch.Size([256, 1, 28, 28])\n",
            "torch.Size([256, 1, 28, 28])\n",
            "torch.Size([256, 1, 28, 28])\n",
            "torch.Size([256, 1, 28, 28])\n",
            "torch.Size([256, 1, 28, 28])\n",
            "torch.Size([256, 1, 28, 28])\n",
            "torch.Size([256, 1, 28, 28])\n",
            "torch.Size([256, 1, 28, 28])\n",
            "torch.Size([256, 1, 28, 28])\n",
            "torch.Size([256, 1, 28, 28])\n",
            "torch.Size([256, 1, 28, 28])\n",
            "torch.Size([256, 1, 28, 28])\n",
            "torch.Size([256, 1, 28, 28])\n",
            "torch.Size([256, 1, 28, 28])\n",
            "torch.Size([256, 1, 28, 28])\n",
            "torch.Size([256, 1, 28, 28])\n",
            "torch.Size([256, 1, 28, 28])\n",
            "torch.Size([256, 1, 28, 28])\n",
            "torch.Size([256, 1, 28, 28])\n",
            "torch.Size([256, 1, 28, 28])\n",
            "torch.Size([256, 1, 28, 28])\n",
            "torch.Size([256, 1, 28, 28])\n",
            "torch.Size([256, 1, 28, 28])\n",
            "torch.Size([256, 1, 28, 28])\n",
            "torch.Size([256, 1, 28, 28])\n",
            "torch.Size([256, 1, 28, 28])\n",
            "torch.Size([256, 1, 28, 28])\n",
            "torch.Size([256, 1, 28, 28])\n",
            "torch.Size([256, 1, 28, 28])\n",
            "torch.Size([256, 1, 28, 28])\n",
            "torch.Size([256, 1, 28, 28])\n",
            "torch.Size([256, 1, 28, 28])\n",
            "torch.Size([256, 1, 28, 28])\n",
            "torch.Size([256, 1, 28, 28])\n",
            "torch.Size([256, 1, 28, 28])\n",
            "torch.Size([256, 1, 28, 28])\n",
            "torch.Size([256, 1, 28, 28])\n",
            "torch.Size([256, 1, 28, 28])\n",
            "torch.Size([256, 1, 28, 28])\n",
            "torch.Size([256, 1, 28, 28])\n",
            "torch.Size([256, 1, 28, 28])\n",
            "torch.Size([256, 1, 28, 28])\n",
            "torch.Size([256, 1, 28, 28])\n",
            "torch.Size([256, 1, 28, 28])\n",
            "torch.Size([256, 1, 28, 28])\n",
            "torch.Size([256, 1, 28, 28])\n",
            "torch.Size([256, 1, 28, 28])\n",
            "torch.Size([256, 1, 28, 28])\n",
            "torch.Size([256, 1, 28, 28])\n",
            "torch.Size([256, 1, 28, 28])\n",
            "torch.Size([256, 1, 28, 28])\n",
            "torch.Size([256, 1, 28, 28])\n",
            "torch.Size([256, 1, 28, 28])\n",
            "torch.Size([256, 1, 28, 28])\n",
            "torch.Size([256, 1, 28, 28])\n",
            "torch.Size([256, 1, 28, 28])\n",
            "torch.Size([256, 1, 28, 28])\n",
            "torch.Size([256, 1, 28, 28])\n",
            "torch.Size([256, 1, 28, 28])\n",
            "torch.Size([256, 1, 28, 28])\n",
            "torch.Size([256, 1, 28, 28])\n",
            "torch.Size([256, 1, 28, 28])\n",
            "torch.Size([256, 1, 28, 28])\n",
            "torch.Size([256, 1, 28, 28])\n",
            "torch.Size([256, 1, 28, 28])\n",
            "torch.Size([256, 1, 28, 28])\n",
            "torch.Size([256, 1, 28, 28])\n",
            "torch.Size([256, 1, 28, 28])\n",
            "torch.Size([256, 1, 28, 28])\n",
            "torch.Size([256, 1, 28, 28])\n",
            "torch.Size([256, 1, 28, 28])\n",
            "torch.Size([256, 1, 28, 28])\n",
            "torch.Size([256, 1, 28, 28])\n",
            "torch.Size([256, 1, 28, 28])\n",
            "torch.Size([256, 1, 28, 28])\n",
            "torch.Size([256, 1, 28, 28])\n",
            "torch.Size([256, 1, 28, 28])\n",
            "torch.Size([256, 1, 28, 28])\n",
            "torch.Size([256, 1, 28, 28])\n",
            "torch.Size([256, 1, 28, 28])\n",
            "torch.Size([256, 1, 28, 28])\n",
            "torch.Size([256, 1, 28, 28])\n",
            "torch.Size([256, 1, 28, 28])\n",
            "torch.Size([256, 1, 28, 28])\n",
            "torch.Size([256, 1, 28, 28])\n",
            "torch.Size([256, 1, 28, 28])\n",
            "torch.Size([256, 1, 28, 28])\n",
            "torch.Size([256, 1, 28, 28])\n",
            "torch.Size([256, 1, 28, 28])\n",
            "torch.Size([256, 1, 28, 28])\n",
            "torch.Size([256, 1, 28, 28])\n",
            "torch.Size([256, 1, 28, 28])\n",
            "torch.Size([256, 1, 28, 28])\n",
            "torch.Size([256, 1, 28, 28])\n",
            "torch.Size([256, 1, 28, 28])\n",
            "torch.Size([256, 1, 28, 28])\n",
            "torch.Size([256, 1, 28, 28])\n",
            "torch.Size([256, 1, 28, 28])\n",
            "torch.Size([256, 1, 28, 28])\n",
            "torch.Size([256, 1, 28, 28])\n",
            "torch.Size([256, 1, 28, 28])\n",
            "torch.Size([256, 1, 28, 28])\n",
            "torch.Size([256, 1, 28, 28])\n",
            "torch.Size([256, 1, 28, 28])\n",
            "torch.Size([256, 1, 28, 28])\n",
            "torch.Size([256, 1, 28, 28])\n",
            "torch.Size([256, 1, 28, 28])\n",
            "torch.Size([256, 1, 28, 28])\n",
            "torch.Size([256, 1, 28, 28])\n",
            "torch.Size([256, 1, 28, 28])\n",
            "torch.Size([256, 1, 28, 28])\n",
            "torch.Size([256, 1, 28, 28])\n",
            "torch.Size([256, 1, 28, 28])\n",
            "torch.Size([256, 1, 28, 28])\n",
            "torch.Size([256, 1, 28, 28])\n",
            "torch.Size([256, 1, 28, 28])\n",
            "torch.Size([256, 1, 28, 28])\n",
            "torch.Size([256, 1, 28, 28])\n",
            "torch.Size([256, 1, 28, 28])\n",
            "torch.Size([256, 1, 28, 28])\n",
            "torch.Size([256, 1, 28, 28])\n",
            "torch.Size([256, 1, 28, 28])\n",
            "torch.Size([256, 1, 28, 28])\n",
            "torch.Size([256, 1, 28, 28])\n",
            "torch.Size([256, 1, 28, 28])\n",
            "torch.Size([256, 1, 28, 28])\n",
            "torch.Size([256, 1, 28, 28])\n",
            "torch.Size([256, 1, 28, 28])\n",
            "torch.Size([256, 1, 28, 28])\n",
            "torch.Size([256, 1, 28, 28])\n",
            "torch.Size([256, 1, 28, 28])\n",
            "torch.Size([256, 1, 28, 28])\n",
            "torch.Size([256, 1, 28, 28])\n",
            "torch.Size([256, 1, 28, 28])\n",
            "torch.Size([256, 1, 28, 28])\n",
            "torch.Size([256, 1, 28, 28])\n",
            "torch.Size([256, 1, 28, 28])\n",
            "torch.Size([256, 1, 28, 28])\n",
            "torch.Size([256, 1, 28, 28])\n",
            "torch.Size([256, 1, 28, 28])\n",
            "torch.Size([256, 1, 28, 28])\n",
            "torch.Size([256, 1, 28, 28])\n",
            "torch.Size([256, 1, 28, 28])\n",
            "torch.Size([256, 1, 28, 28])\n",
            "torch.Size([256, 1, 28, 28])\n",
            "torch.Size([256, 1, 28, 28])\n",
            "torch.Size([256, 1, 28, 28])\n",
            "torch.Size([256, 1, 28, 28])\n",
            "torch.Size([256, 1, 28, 28])\n",
            "torch.Size([256, 1, 28, 28])\n",
            "torch.Size([256, 1, 28, 28])\n",
            "torch.Size([256, 1, 28, 28])\n",
            "torch.Size([256, 1, 28, 28])\n",
            "torch.Size([256, 1, 28, 28])\n",
            "torch.Size([96, 1, 28, 28])\n"
          ]
        }
      ]
    },
    {
      "cell_type": "code",
      "source": [
        "#Code 4\n",
        "x = torch.rand(256)\n",
        "len(x)"
      ],
      "metadata": {
        "colab": {
          "base_uri": "https://localhost:8080/"
        },
        "id": "Xl3ANv0U6Prv",
        "outputId": "50d790ef-d659-4df7-a88a-4b29e6c05903"
      },
      "execution_count": null,
      "outputs": [
        {
          "output_type": "execute_result",
          "data": {
            "text/plain": [
              "256"
            ]
          },
          "metadata": {},
          "execution_count": 5
        }
      ]
    },
    {
      "cell_type": "code",
      "source": [
        "batch_size = 256\n",
        "train_iter1, test_iter1 = mu.load_data_fashion_mnist(batch_size)\n",
        "type(fashion_train_iter)\n",
        "\n",
        "\n",
        "fashion_train_iter = []\n",
        "fashion_test_iter = []\n",
        "\n",
        "def patch(x):\n",
        "  ac, ah, aw = 1,4,4\n",
        "  bc, bh, bw = 1,4,4\n",
        "  patches = x.unfold(1, ac, bc).unfold(2, ah, bh).unfold(3, aw, bw)\n",
        "  patches = patches.contiguous().view(patches.size(0), -1,ah*aw)\n",
        "  \n",
        "  return patches\n",
        "\n",
        " \n",
        "\n",
        "for i in train_iter1:\n",
        "  if len(i[1]) == 256:\n",
        "    pa = torch.transpose(patch(i[0]),2,1)\n",
        "    fashion_train_iter.append([pa,i[1]])\n",
        "\n",
        "for i in test_iter1:\n",
        "  if len(i[1]) == 256:\n",
        "    pat = torch.transpose(patch(i[0]),2,1)\n",
        "    fashion_test_iter.append([pat, i[1]])\n",
        "\n"
      ],
      "metadata": {
        "colab": {
          "base_uri": "https://localhost:8080/"
        },
        "outputId": "fd15b0ec-5419-41ed-b43a-d2aa262d486f",
        "id": "Ir3auAbCdCYB"
      },
      "execution_count": null,
      "outputs": [
        {
          "output_type": "stream",
          "name": "stderr",
          "text": [
            "/usr/local/lib/python3.7/dist-packages/torch/utils/data/dataloader.py:481: UserWarning: This DataLoader will create 4 worker processes in total. Our suggested max number of worker in current system is 2, which is smaller than what this DataLoader is going to create. Please be aware that excessive worker creation might get DataLoader running slow or even freeze, lower the worker number to avoid potential slowness/freeze if necessary.\n",
            "  cpuset_checked))\n"
          ]
        }
      ]
    },
    {
      "cell_type": "code",
      "source": [
        "#Code 6\n",
        "\n",
        "class Net(torch.nn.Module):\n",
        "    def __init__(self, num_inputs, num_hidden, num_hidden2, num_hidden3, num_hidden4, num_outputs):\n",
        "        super(Net, self).__init__()\n",
        "        self.num_inputs = num_inputs\n",
        "        self.num_hidden = num_hidden\n",
        "        self.num_hidden2 = num_hidden2\n",
        "        self.num_hidden3 = num_hidden3\n",
        "        self.num_hidden4 = num_hidden4\n",
        "        self.num_outputs = num_outputs\n",
        "\n",
        "        self.Linear1 = nn.Linear(num_inputs, num_hidden)\n",
        "        self.Linear2 = nn.Linear(num_hidden, num_hidden2)\n",
        "        self.Linear3 = nn.Linear(16, num_hidden3)\n",
        "        self.linear4 = nn.Linear(num_hidden3, num_hidden4)\n",
        "        self.Linear5 = nn.Linear(num_hidden4, num_outputs)\n",
        "        self.rel = nn.ReLU()\n",
        "        \n",
        "    def forward(self, x):\n",
        "        x = self.Linear1(x)\n",
        "        x = torch.transpose(x, 1, 2)\n",
        "        x = self.Linear2(x)\n",
        "        x = self.rel(x)\n",
        "        x = self.Linear3(x)\n",
        "        x = torch.transpose(x, 1, 2)\n",
        "        x = self.linear4(x)\n",
        "        out = self.Linear5(x)\n",
        "       \n",
        "\n",
        "        out = torch.mean(out, dim=1)\n",
        "        return out"
      ],
      "metadata": {
        "id": "bJ5tWVUsbsHv"
      },
      "execution_count": null,
      "outputs": []
    },
    {
      "cell_type": "code",
      "source": [
        "#Code 7\n",
        "\n",
        "\n",
        "def init_weights(m):\n",
        "  if type(m) == nn.Linear:\n",
        "    torch.nn.init.normal_(m.weight, std=0.01)# by checking type we can init different layers in different ways\n",
        "    torch.nn.init.zeros_(m.bias) \n",
        "    \n",
        "      \n",
        "      \n",
        "    \n",
        "        \n",
        "        "
      ],
      "metadata": {
        "id": "AbgVjvse6gJ6"
      },
      "execution_count": null,
      "outputs": []
    },
    {
      "cell_type": "code",
      "source": [
        "#Code 8\n",
        "\n",
        "\n",
        "num_inputs, num_hidden, num_hidden2, num_hidden3, num_hidden4, num_outputs = 49, 16 , 16, 16, 25, 10\n",
        "net = Net(num_inputs,num_hidden,num_hidden2, num_hidden3, num_hidden4, num_outputs)\n",
        "\n"
      ],
      "metadata": {
        "id": "tbqlPVMw6iL6"
      },
      "execution_count": null,
      "outputs": []
    },
    {
      "cell_type": "code",
      "source": [
        "#Code 9\n",
        "\n",
        "loss = nn.CrossEntropyLoss()\n",
        "lr, wd = 0.001, 0\n",
        "optimizer = torch.optim.Adam(net.parameters(), lr=lr, weight_decay=wd)"
      ],
      "metadata": {
        "id": "2R6xthPO6kgO"
      },
      "execution_count": null,
      "outputs": []
    },
    {
      "cell_type": "code",
      "source": [
        "#Code 10\n",
        "\n",
        "def accuracy(y_hat, y):  \n",
        "    \n",
        "    if len(y_hat.shape) > 1 and y_hat.shape[1] > 1:\n",
        "        y_hat = y_hat.argmax(axis=1)    \n",
        "    cmp = (y_hat.type(y.dtype) == y)  \n",
        "    return float(torch.sum(cmp))\n",
        "\n",
        "\n",
        "y = torch.tensor([0, 2])\n",
        "y_hat = torch.tensor([[0.1, 0.3, 0.6], [0.3, 0.2, 0.5]])\n",
        "accuracy(y_hat, y) / len(y)"
      ],
      "metadata": {
        "colab": {
          "base_uri": "https://localhost:8080/"
        },
        "id": "XAppv6UI6rxA",
        "outputId": "c4957861-ff56-4a38-a061-f82dd7ab2158"
      },
      "execution_count": null,
      "outputs": [
        {
          "output_type": "execute_result",
          "data": {
            "text/plain": [
              "0.5"
            ]
          },
          "metadata": {},
          "execution_count": 11
        }
      ]
    },
    {
      "cell_type": "code",
      "source": [
        "#Code 11\n",
        "\n",
        "class Accumulator:  \n",
        "    \n",
        "    def __init__(self, n):\n",
        "        self.data = [0.0] * n # [0, 0, ..., 0]\n",
        "    def add(self, *args):\n",
        "        self.data = [a + float(b) for a, b in zip(self.data, args)]\n",
        "    def reset(self):\n",
        "        self.data = [0.0] * len(self.data)\n",
        "    def __getitem__(self, idx):\n",
        "        return self.data[idx]"
      ],
      "metadata": {
        "id": "x5OGaMhS6t8a"
      },
      "execution_count": null,
      "outputs": []
    },
    {
      "cell_type": "code",
      "source": [
        "#Code 12\n",
        "\n",
        "def evaluate_accuracy(net, data_iter): \n",
        "    \n",
        "    metric = Accumulator(2)  \n",
        "    for _, (X, y) in enumerate(data_iter):\n",
        "        metric.add(accuracy(net(X), y), y.numel())\n",
        "    return metric[0] / metric[1]"
      ],
      "metadata": {
        "id": "ivwdMgRQ6u7G"
      },
      "execution_count": null,
      "outputs": []
    },
    {
      "cell_type": "code",
      "source": [
        "#Code 13\n",
        "\n",
        "def train_epoch_ch3(net, fashion_train_iter, loss, optimizer, batch_size=256, num_outputs=10):  \n",
        "    \n",
        "    # Set the model to training mode\n",
        "    if isinstance(net, torch.nn.Module):\n",
        "        net.train()\n",
        "    # Sum of training loss, sum of training accuracy, no. of examples\n",
        "    metric = Accumulator(3)\n",
        "    for X, y in fashion_train_iter:\n",
        "        # Compute gradients and update parameters\n",
        "        y_hat = net(X)\n",
        "        l = loss(y_hat, y)\n",
        "        optimizer.zero_grad()\n",
        "        l.backward()\n",
        "        optimizer.step()\n",
        "        metric.add(float(l) * len(y), accuracy(y_hat, y), y.size().numel())\n",
        "    # Return training loss and training accuracy\n",
        "    return metric[0] / metric[2], metric[1] / metric[2]"
      ],
      "metadata": {
        "id": "dyaKQvpU60Hf"
      },
      "execution_count": null,
      "outputs": []
    },
    {
      "cell_type": "code",
      "execution_count": null,
      "metadata": {
        "id": "5TUr83txGY9x"
      },
      "outputs": [],
      "source": [
        "#Code 14\n",
        "\n",
        "class Animator:  \n",
        "    \"\"\"For plotting data in animation.\"\"\"\n",
        "    def __init__(self, xlabel=None, ylabel=None, legend=None, xlim=None,\n",
        "                 ylim=None, xscale='linear', yscale='linear',\n",
        "                 fmts=('-', 'm--', 'g-.', 'r:'), nrows=1, ncols=1,\n",
        "                 figsize=(3.5, 2.5)):\n",
        "        \n",
        "        if legend is None:\n",
        "            legend = []\n",
        "        mu.use_svg_display()\n",
        "        self.fig, self.axes = mu.plt.subplots(nrows, ncols, figsize=figsize)\n",
        "        if nrows * ncols == 1:\n",
        "            self.axes = [self.axes, ]\n",
        "        \n",
        "        self.config_axes = lambda: mu.set_axes(\n",
        "            self.axes[0], xlabel, ylabel, xlim, ylim, xscale, yscale, legend)\n",
        "        self.X, self.Y, self.fmts = None, None, fmts\n",
        "\n",
        "    def add(self, x, y):\n",
        "        \n",
        "        if not hasattr(y, \"__len__\"):\n",
        "            y = [y]\n",
        "        n = len(y)\n",
        "        if not hasattr(x, \"__len__\"):\n",
        "            x = [x] * n\n",
        "        if not self.X:\n",
        "            self.X = [[] for _ in range(n)]\n",
        "        if not self.Y:\n",
        "            self.Y = [[] for _ in range(n)]\n",
        "        for i, (a, b) in enumerate(zip(x, y)):\n",
        "            if a is not None and b is not None:\n",
        "                self.X[i].append(a)\n",
        "                self.Y[i].append(b)\n",
        "        self.axes[0].cla()\n",
        "        for x, y, fmt in zip(self.X, self.Y, self.fmts):\n",
        "            self.axes[0].plot(x, y, fmt)\n",
        "        self.config_axes()\n",
        "        display.display(self.fig)\n",
        "        display.clear_output(wait=True)"
      ]
    },
    {
      "cell_type": "code",
      "execution_count": null,
      "metadata": {
        "id": "xKyLift_GY9x"
      },
      "outputs": [],
      "source": [
        "#Code 15\n",
        "\n",
        "def train_ch3(net, fashion_train_iter, fashion_test_iter, loss, num_epochs, optimizer): \n",
        "    \n",
        "    animator = Animator(xlabel='epoch', xlim=[1, num_epochs], ylim=[0.1, 1.0],\n",
        "                        legend=['train loss', 'train acc', 'test acc'])\n",
        "    for epoch in range(num_epochs):\n",
        "        train_metrics = train_epoch_ch3(net, fashion_train_iter, loss, optimizer)\n",
        "        test_acc = evaluate_accuracy(net, fashion_test_iter)\n",
        "        animator.add(epoch + 1, train_metrics + (test_acc,))\n",
        "    train_loss, train_acc = train_metrics"
      ]
    },
    {
      "cell_type": "code",
      "execution_count": null,
      "metadata": {
        "id": "5M4Z_8flGY9y",
        "origin_pos": 18,
        "scrolled": false,
        "tab": [
          "pytorch"
        ],
        "colab": {
          "base_uri": "https://localhost:8080/",
          "height": 284
        },
        "outputId": "e22bcc67-c1c9-405a-dc5f-091ab5bb24dd"
      },
      "outputs": [
        {
          "output_type": "execute_result",
          "data": {
            "text/plain": [
              "0.8486578525641025"
            ]
          },
          "metadata": {},
          "execution_count": 17
        },
        {
          "output_type": "display_data",
          "data": {
            "text/plain": [
              "<Figure size 252x180 with 1 Axes>"
            ],
            "image/svg+xml": "<?xml version=\"1.0\" encoding=\"utf-8\" standalone=\"no\"?>\n<!DOCTYPE svg PUBLIC \"-//W3C//DTD SVG 1.1//EN\"\n  \"http://www.w3.org/Graphics/SVG/1.1/DTD/svg11.dtd\">\n<!-- Created with matplotlib (https://matplotlib.org/) -->\n<svg height=\"184.455469pt\" version=\"1.1\" viewBox=\"0 0 238.965625 184.455469\" width=\"238.965625pt\" xmlns=\"http://www.w3.org/2000/svg\" xmlns:xlink=\"http://www.w3.org/1999/xlink\">\n <defs>\n  <style type=\"text/css\">\n*{stroke-linecap:butt;stroke-linejoin:round;}\n  </style>\n </defs>\n <g id=\"figure_1\">\n  <g id=\"patch_1\">\n   <path d=\"M 0 184.455469 \nL 238.965625 184.455469 \nL 238.965625 -0 \nL 0 -0 \nz\n\" style=\"fill:none;\"/>\n  </g>\n  <g id=\"axes_1\">\n   <g id=\"patch_2\">\n    <path d=\"M 30.103125 146.899219 \nL 225.403125 146.899219 \nL 225.403125 10.999219 \nL 30.103125 10.999219 \nz\n\" style=\"fill:#ffffff;\"/>\n   </g>\n   <g id=\"matplotlib.axis_1\">\n    <g id=\"xtick_1\">\n     <g id=\"line2d_1\">\n      <path clip-path=\"url(#p15dd939e30)\" d=\"M 77.074011 146.899219 \nL 77.074011 10.999219 \n\" style=\"fill:none;stroke:#b0b0b0;stroke-linecap:square;stroke-width:0.8;\"/>\n     </g>\n     <g id=\"line2d_2\">\n      <defs>\n       <path d=\"M 0 0 \nL 0 3.5 \n\" id=\"m794dab4cb4\" style=\"stroke:#000000;stroke-width:0.8;\"/>\n      </defs>\n      <g>\n       <use style=\"stroke:#000000;stroke-width:0.8;\" x=\"77.074011\" xlink:href=\"#m794dab4cb4\" y=\"146.899219\"/>\n      </g>\n     </g>\n     <g id=\"text_1\">\n      <!-- 20 -->\n      <defs>\n       <path d=\"M 19.1875 8.296875 \nL 53.609375 8.296875 \nL 53.609375 0 \nL 7.328125 0 \nL 7.328125 8.296875 \nQ 12.9375 14.109375 22.625 23.890625 \nQ 32.328125 33.6875 34.8125 36.53125 \nQ 39.546875 41.84375 41.421875 45.53125 \nQ 43.3125 49.21875 43.3125 52.78125 \nQ 43.3125 58.59375 39.234375 62.25 \nQ 35.15625 65.921875 28.609375 65.921875 \nQ 23.96875 65.921875 18.8125 64.3125 \nQ 13.671875 62.703125 7.8125 59.421875 \nL 7.8125 69.390625 \nQ 13.765625 71.78125 18.9375 73 \nQ 24.125 74.21875 28.421875 74.21875 \nQ 39.75 74.21875 46.484375 68.546875 \nQ 53.21875 62.890625 53.21875 53.421875 \nQ 53.21875 48.921875 51.53125 44.890625 \nQ 49.859375 40.875 45.40625 35.40625 \nQ 44.1875 33.984375 37.640625 27.21875 \nQ 31.109375 20.453125 19.1875 8.296875 \nz\n\" id=\"DejaVuSans-50\"/>\n       <path d=\"M 31.78125 66.40625 \nQ 24.171875 66.40625 20.328125 58.90625 \nQ 16.5 51.421875 16.5 36.375 \nQ 16.5 21.390625 20.328125 13.890625 \nQ 24.171875 6.390625 31.78125 6.390625 \nQ 39.453125 6.390625 43.28125 13.890625 \nQ 47.125 21.390625 47.125 36.375 \nQ 47.125 51.421875 43.28125 58.90625 \nQ 39.453125 66.40625 31.78125 66.40625 \nz\nM 31.78125 74.21875 \nQ 44.046875 74.21875 50.515625 64.515625 \nQ 56.984375 54.828125 56.984375 36.375 \nQ 56.984375 17.96875 50.515625 8.265625 \nQ 44.046875 -1.421875 31.78125 -1.421875 \nQ 19.53125 -1.421875 13.0625 8.265625 \nQ 6.59375 17.96875 6.59375 36.375 \nQ 6.59375 54.828125 13.0625 64.515625 \nQ 19.53125 74.21875 31.78125 74.21875 \nz\n\" id=\"DejaVuSans-48\"/>\n      </defs>\n      <g transform=\"translate(70.711511 161.497656)scale(0.1 -0.1)\">\n       <use xlink:href=\"#DejaVuSans-50\"/>\n       <use x=\"63.623047\" xlink:href=\"#DejaVuSans-48\"/>\n      </g>\n     </g>\n    </g>\n    <g id=\"xtick_2\">\n     <g id=\"line2d_3\">\n      <path clip-path=\"url(#p15dd939e30)\" d=\"M 126.517049 146.899219 \nL 126.517049 10.999219 \n\" style=\"fill:none;stroke:#b0b0b0;stroke-linecap:square;stroke-width:0.8;\"/>\n     </g>\n     <g id=\"line2d_4\">\n      <g>\n       <use style=\"stroke:#000000;stroke-width:0.8;\" x=\"126.517049\" xlink:href=\"#m794dab4cb4\" y=\"146.899219\"/>\n      </g>\n     </g>\n     <g id=\"text_2\">\n      <!-- 40 -->\n      <defs>\n       <path d=\"M 37.796875 64.3125 \nL 12.890625 25.390625 \nL 37.796875 25.390625 \nz\nM 35.203125 72.90625 \nL 47.609375 72.90625 \nL 47.609375 25.390625 \nL 58.015625 25.390625 \nL 58.015625 17.1875 \nL 47.609375 17.1875 \nL 47.609375 0 \nL 37.796875 0 \nL 37.796875 17.1875 \nL 4.890625 17.1875 \nL 4.890625 26.703125 \nz\n\" id=\"DejaVuSans-52\"/>\n      </defs>\n      <g transform=\"translate(120.154549 161.497656)scale(0.1 -0.1)\">\n       <use xlink:href=\"#DejaVuSans-52\"/>\n       <use x=\"63.623047\" xlink:href=\"#DejaVuSans-48\"/>\n      </g>\n     </g>\n    </g>\n    <g id=\"xtick_3\">\n     <g id=\"line2d_5\">\n      <path clip-path=\"url(#p15dd939e30)\" d=\"M 175.960087 146.899219 \nL 175.960087 10.999219 \n\" style=\"fill:none;stroke:#b0b0b0;stroke-linecap:square;stroke-width:0.8;\"/>\n     </g>\n     <g id=\"line2d_6\">\n      <g>\n       <use style=\"stroke:#000000;stroke-width:0.8;\" x=\"175.960087\" xlink:href=\"#m794dab4cb4\" y=\"146.899219\"/>\n      </g>\n     </g>\n     <g id=\"text_3\">\n      <!-- 60 -->\n      <defs>\n       <path d=\"M 33.015625 40.375 \nQ 26.375 40.375 22.484375 35.828125 \nQ 18.609375 31.296875 18.609375 23.390625 \nQ 18.609375 15.53125 22.484375 10.953125 \nQ 26.375 6.390625 33.015625 6.390625 \nQ 39.65625 6.390625 43.53125 10.953125 \nQ 47.40625 15.53125 47.40625 23.390625 \nQ 47.40625 31.296875 43.53125 35.828125 \nQ 39.65625 40.375 33.015625 40.375 \nz\nM 52.59375 71.296875 \nL 52.59375 62.3125 \nQ 48.875 64.0625 45.09375 64.984375 \nQ 41.3125 65.921875 37.59375 65.921875 \nQ 27.828125 65.921875 22.671875 59.328125 \nQ 17.53125 52.734375 16.796875 39.40625 \nQ 19.671875 43.65625 24.015625 45.921875 \nQ 28.375 48.1875 33.59375 48.1875 \nQ 44.578125 48.1875 50.953125 41.515625 \nQ 57.328125 34.859375 57.328125 23.390625 \nQ 57.328125 12.15625 50.6875 5.359375 \nQ 44.046875 -1.421875 33.015625 -1.421875 \nQ 20.359375 -1.421875 13.671875 8.265625 \nQ 6.984375 17.96875 6.984375 36.375 \nQ 6.984375 53.65625 15.1875 63.9375 \nQ 23.390625 74.21875 37.203125 74.21875 \nQ 40.921875 74.21875 44.703125 73.484375 \nQ 48.484375 72.75 52.59375 71.296875 \nz\n\" id=\"DejaVuSans-54\"/>\n      </defs>\n      <g transform=\"translate(169.597587 161.497656)scale(0.1 -0.1)\">\n       <use xlink:href=\"#DejaVuSans-54\"/>\n       <use x=\"63.623047\" xlink:href=\"#DejaVuSans-48\"/>\n      </g>\n     </g>\n    </g>\n    <g id=\"xtick_4\">\n     <g id=\"line2d_7\">\n      <path clip-path=\"url(#p15dd939e30)\" d=\"M 225.403125 146.899219 \nL 225.403125 10.999219 \n\" style=\"fill:none;stroke:#b0b0b0;stroke-linecap:square;stroke-width:0.8;\"/>\n     </g>\n     <g id=\"line2d_8\">\n      <g>\n       <use style=\"stroke:#000000;stroke-width:0.8;\" x=\"225.403125\" xlink:href=\"#m794dab4cb4\" y=\"146.899219\"/>\n      </g>\n     </g>\n     <g id=\"text_4\">\n      <!-- 80 -->\n      <defs>\n       <path d=\"M 31.78125 34.625 \nQ 24.75 34.625 20.71875 30.859375 \nQ 16.703125 27.09375 16.703125 20.515625 \nQ 16.703125 13.921875 20.71875 10.15625 \nQ 24.75 6.390625 31.78125 6.390625 \nQ 38.8125 6.390625 42.859375 10.171875 \nQ 46.921875 13.96875 46.921875 20.515625 \nQ 46.921875 27.09375 42.890625 30.859375 \nQ 38.875 34.625 31.78125 34.625 \nz\nM 21.921875 38.8125 \nQ 15.578125 40.375 12.03125 44.71875 \nQ 8.5 49.078125 8.5 55.328125 \nQ 8.5 64.0625 14.71875 69.140625 \nQ 20.953125 74.21875 31.78125 74.21875 \nQ 42.671875 74.21875 48.875 69.140625 \nQ 55.078125 64.0625 55.078125 55.328125 \nQ 55.078125 49.078125 51.53125 44.71875 \nQ 48 40.375 41.703125 38.8125 \nQ 48.828125 37.15625 52.796875 32.3125 \nQ 56.78125 27.484375 56.78125 20.515625 \nQ 56.78125 9.90625 50.3125 4.234375 \nQ 43.84375 -1.421875 31.78125 -1.421875 \nQ 19.734375 -1.421875 13.25 4.234375 \nQ 6.78125 9.90625 6.78125 20.515625 \nQ 6.78125 27.484375 10.78125 32.3125 \nQ 14.796875 37.15625 21.921875 38.8125 \nz\nM 18.3125 54.390625 \nQ 18.3125 48.734375 21.84375 45.5625 \nQ 25.390625 42.390625 31.78125 42.390625 \nQ 38.140625 42.390625 41.71875 45.5625 \nQ 45.3125 48.734375 45.3125 54.390625 \nQ 45.3125 60.0625 41.71875 63.234375 \nQ 38.140625 66.40625 31.78125 66.40625 \nQ 25.390625 66.40625 21.84375 63.234375 \nQ 18.3125 60.0625 18.3125 54.390625 \nz\n\" id=\"DejaVuSans-56\"/>\n      </defs>\n      <g transform=\"translate(219.040625 161.497656)scale(0.1 -0.1)\">\n       <use xlink:href=\"#DejaVuSans-56\"/>\n       <use x=\"63.623047\" xlink:href=\"#DejaVuSans-48\"/>\n      </g>\n     </g>\n    </g>\n    <g id=\"text_5\">\n     <!-- epoch -->\n     <defs>\n      <path d=\"M 56.203125 29.59375 \nL 56.203125 25.203125 \nL 14.890625 25.203125 \nQ 15.484375 15.921875 20.484375 11.0625 \nQ 25.484375 6.203125 34.421875 6.203125 \nQ 39.59375 6.203125 44.453125 7.46875 \nQ 49.3125 8.734375 54.109375 11.28125 \nL 54.109375 2.78125 \nQ 49.265625 0.734375 44.1875 -0.34375 \nQ 39.109375 -1.421875 33.890625 -1.421875 \nQ 20.796875 -1.421875 13.15625 6.1875 \nQ 5.515625 13.8125 5.515625 26.8125 \nQ 5.515625 40.234375 12.765625 48.109375 \nQ 20.015625 56 32.328125 56 \nQ 43.359375 56 49.78125 48.890625 \nQ 56.203125 41.796875 56.203125 29.59375 \nz\nM 47.21875 32.234375 \nQ 47.125 39.59375 43.09375 43.984375 \nQ 39.0625 48.390625 32.421875 48.390625 \nQ 24.90625 48.390625 20.390625 44.140625 \nQ 15.875 39.890625 15.1875 32.171875 \nz\n\" id=\"DejaVuSans-101\"/>\n      <path d=\"M 18.109375 8.203125 \nL 18.109375 -20.796875 \nL 9.078125 -20.796875 \nL 9.078125 54.6875 \nL 18.109375 54.6875 \nL 18.109375 46.390625 \nQ 20.953125 51.265625 25.265625 53.625 \nQ 29.59375 56 35.59375 56 \nQ 45.5625 56 51.78125 48.09375 \nQ 58.015625 40.1875 58.015625 27.296875 \nQ 58.015625 14.40625 51.78125 6.484375 \nQ 45.5625 -1.421875 35.59375 -1.421875 \nQ 29.59375 -1.421875 25.265625 0.953125 \nQ 20.953125 3.328125 18.109375 8.203125 \nz\nM 48.6875 27.296875 \nQ 48.6875 37.203125 44.609375 42.84375 \nQ 40.53125 48.484375 33.40625 48.484375 \nQ 26.265625 48.484375 22.1875 42.84375 \nQ 18.109375 37.203125 18.109375 27.296875 \nQ 18.109375 17.390625 22.1875 11.75 \nQ 26.265625 6.109375 33.40625 6.109375 \nQ 40.53125 6.109375 44.609375 11.75 \nQ 48.6875 17.390625 48.6875 27.296875 \nz\n\" id=\"DejaVuSans-112\"/>\n      <path d=\"M 30.609375 48.390625 \nQ 23.390625 48.390625 19.1875 42.75 \nQ 14.984375 37.109375 14.984375 27.296875 \nQ 14.984375 17.484375 19.15625 11.84375 \nQ 23.34375 6.203125 30.609375 6.203125 \nQ 37.796875 6.203125 41.984375 11.859375 \nQ 46.1875 17.53125 46.1875 27.296875 \nQ 46.1875 37.015625 41.984375 42.703125 \nQ 37.796875 48.390625 30.609375 48.390625 \nz\nM 30.609375 56 \nQ 42.328125 56 49.015625 48.375 \nQ 55.71875 40.765625 55.71875 27.296875 \nQ 55.71875 13.875 49.015625 6.21875 \nQ 42.328125 -1.421875 30.609375 -1.421875 \nQ 18.84375 -1.421875 12.171875 6.21875 \nQ 5.515625 13.875 5.515625 27.296875 \nQ 5.515625 40.765625 12.171875 48.375 \nQ 18.84375 56 30.609375 56 \nz\n\" id=\"DejaVuSans-111\"/>\n      <path d=\"M 48.78125 52.59375 \nL 48.78125 44.1875 \nQ 44.96875 46.296875 41.140625 47.34375 \nQ 37.3125 48.390625 33.40625 48.390625 \nQ 24.65625 48.390625 19.8125 42.84375 \nQ 14.984375 37.3125 14.984375 27.296875 \nQ 14.984375 17.28125 19.8125 11.734375 \nQ 24.65625 6.203125 33.40625 6.203125 \nQ 37.3125 6.203125 41.140625 7.25 \nQ 44.96875 8.296875 48.78125 10.40625 \nL 48.78125 2.09375 \nQ 45.015625 0.34375 40.984375 -0.53125 \nQ 36.96875 -1.421875 32.421875 -1.421875 \nQ 20.0625 -1.421875 12.78125 6.34375 \nQ 5.515625 14.109375 5.515625 27.296875 \nQ 5.515625 40.671875 12.859375 48.328125 \nQ 20.21875 56 33.015625 56 \nQ 37.15625 56 41.109375 55.140625 \nQ 45.0625 54.296875 48.78125 52.59375 \nz\n\" id=\"DejaVuSans-99\"/>\n      <path d=\"M 54.890625 33.015625 \nL 54.890625 0 \nL 45.90625 0 \nL 45.90625 32.71875 \nQ 45.90625 40.484375 42.875 44.328125 \nQ 39.84375 48.1875 33.796875 48.1875 \nQ 26.515625 48.1875 22.3125 43.546875 \nQ 18.109375 38.921875 18.109375 30.90625 \nL 18.109375 0 \nL 9.078125 0 \nL 9.078125 75.984375 \nL 18.109375 75.984375 \nL 18.109375 46.1875 \nQ 21.34375 51.125 25.703125 53.5625 \nQ 30.078125 56 35.796875 56 \nQ 45.21875 56 50.046875 50.171875 \nQ 54.890625 44.34375 54.890625 33.015625 \nz\n\" id=\"DejaVuSans-104\"/>\n     </defs>\n     <g transform=\"translate(112.525 175.175781)scale(0.1 -0.1)\">\n      <use xlink:href=\"#DejaVuSans-101\"/>\n      <use x=\"61.523438\" xlink:href=\"#DejaVuSans-112\"/>\n      <use x=\"125\" xlink:href=\"#DejaVuSans-111\"/>\n      <use x=\"186.181641\" xlink:href=\"#DejaVuSans-99\"/>\n      <use x=\"241.162109\" xlink:href=\"#DejaVuSans-104\"/>\n     </g>\n    </g>\n   </g>\n   <g id=\"matplotlib.axis_2\">\n    <g id=\"ytick_1\">\n     <g id=\"line2d_9\">\n      <path clip-path=\"url(#p15dd939e30)\" d=\"M 30.103125 131.799219 \nL 225.403125 131.799219 \n\" style=\"fill:none;stroke:#b0b0b0;stroke-linecap:square;stroke-width:0.8;\"/>\n     </g>\n     <g id=\"line2d_10\">\n      <defs>\n       <path d=\"M 0 0 \nL -3.5 0 \n\" id=\"md28e9012e7\" style=\"stroke:#000000;stroke-width:0.8;\"/>\n      </defs>\n      <g>\n       <use style=\"stroke:#000000;stroke-width:0.8;\" x=\"30.103125\" xlink:href=\"#md28e9012e7\" y=\"131.799219\"/>\n      </g>\n     </g>\n     <g id=\"text_6\">\n      <!-- 0.2 -->\n      <defs>\n       <path d=\"M 10.6875 12.40625 \nL 21 12.40625 \nL 21 0 \nL 10.6875 0 \nz\n\" id=\"DejaVuSans-46\"/>\n      </defs>\n      <g transform=\"translate(7.2 135.598437)scale(0.1 -0.1)\">\n       <use xlink:href=\"#DejaVuSans-48\"/>\n       <use x=\"63.623047\" xlink:href=\"#DejaVuSans-46\"/>\n       <use x=\"95.410156\" xlink:href=\"#DejaVuSans-50\"/>\n      </g>\n     </g>\n    </g>\n    <g id=\"ytick_2\">\n     <g id=\"line2d_11\">\n      <path clip-path=\"url(#p15dd939e30)\" d=\"M 30.103125 101.599219 \nL 225.403125 101.599219 \n\" style=\"fill:none;stroke:#b0b0b0;stroke-linecap:square;stroke-width:0.8;\"/>\n     </g>\n     <g id=\"line2d_12\">\n      <g>\n       <use style=\"stroke:#000000;stroke-width:0.8;\" x=\"30.103125\" xlink:href=\"#md28e9012e7\" y=\"101.599219\"/>\n      </g>\n     </g>\n     <g id=\"text_7\">\n      <!-- 0.4 -->\n      <g transform=\"translate(7.2 105.398437)scale(0.1 -0.1)\">\n       <use xlink:href=\"#DejaVuSans-48\"/>\n       <use x=\"63.623047\" xlink:href=\"#DejaVuSans-46\"/>\n       <use x=\"95.410156\" xlink:href=\"#DejaVuSans-52\"/>\n      </g>\n     </g>\n    </g>\n    <g id=\"ytick_3\">\n     <g id=\"line2d_13\">\n      <path clip-path=\"url(#p15dd939e30)\" d=\"M 30.103125 71.399219 \nL 225.403125 71.399219 \n\" style=\"fill:none;stroke:#b0b0b0;stroke-linecap:square;stroke-width:0.8;\"/>\n     </g>\n     <g id=\"line2d_14\">\n      <g>\n       <use style=\"stroke:#000000;stroke-width:0.8;\" x=\"30.103125\" xlink:href=\"#md28e9012e7\" y=\"71.399219\"/>\n      </g>\n     </g>\n     <g id=\"text_8\">\n      <!-- 0.6 -->\n      <g transform=\"translate(7.2 75.198437)scale(0.1 -0.1)\">\n       <use xlink:href=\"#DejaVuSans-48\"/>\n       <use x=\"63.623047\" xlink:href=\"#DejaVuSans-46\"/>\n       <use x=\"95.410156\" xlink:href=\"#DejaVuSans-54\"/>\n      </g>\n     </g>\n    </g>\n    <g id=\"ytick_4\">\n     <g id=\"line2d_15\">\n      <path clip-path=\"url(#p15dd939e30)\" d=\"M 30.103125 41.199219 \nL 225.403125 41.199219 \n\" style=\"fill:none;stroke:#b0b0b0;stroke-linecap:square;stroke-width:0.8;\"/>\n     </g>\n     <g id=\"line2d_16\">\n      <g>\n       <use style=\"stroke:#000000;stroke-width:0.8;\" x=\"30.103125\" xlink:href=\"#md28e9012e7\" y=\"41.199219\"/>\n      </g>\n     </g>\n     <g id=\"text_9\">\n      <!-- 0.8 -->\n      <g transform=\"translate(7.2 44.998437)scale(0.1 -0.1)\">\n       <use xlink:href=\"#DejaVuSans-48\"/>\n       <use x=\"63.623047\" xlink:href=\"#DejaVuSans-46\"/>\n       <use x=\"95.410156\" xlink:href=\"#DejaVuSans-56\"/>\n      </g>\n     </g>\n    </g>\n    <g id=\"ytick_5\">\n     <g id=\"line2d_17\">\n      <path clip-path=\"url(#p15dd939e30)\" d=\"M 30.103125 10.999219 \nL 225.403125 10.999219 \n\" style=\"fill:none;stroke:#b0b0b0;stroke-linecap:square;stroke-width:0.8;\"/>\n     </g>\n     <g id=\"line2d_18\">\n      <g>\n       <use style=\"stroke:#000000;stroke-width:0.8;\" x=\"30.103125\" xlink:href=\"#md28e9012e7\" y=\"10.999219\"/>\n      </g>\n     </g>\n     <g id=\"text_10\">\n      <!-- 1.0 -->\n      <defs>\n       <path d=\"M 12.40625 8.296875 \nL 28.515625 8.296875 \nL 28.515625 63.921875 \nL 10.984375 60.40625 \nL 10.984375 69.390625 \nL 28.421875 72.90625 \nL 38.28125 72.90625 \nL 38.28125 8.296875 \nL 54.390625 8.296875 \nL 54.390625 0 \nL 12.40625 0 \nz\n\" id=\"DejaVuSans-49\"/>\n      </defs>\n      <g transform=\"translate(7.2 14.798437)scale(0.1 -0.1)\">\n       <use xlink:href=\"#DejaVuSans-49\"/>\n       <use x=\"63.623047\" xlink:href=\"#DejaVuSans-46\"/>\n       <use x=\"95.410156\" xlink:href=\"#DejaVuSans-48\"/>\n      </g>\n     </g>\n    </g>\n   </g>\n   <g id=\"line2d_19\">\n    <path clip-path=\"url(#p15dd939e30)\" d=\"M 30.934133 -1 \nL 32.575277 67.563305 \nL 35.047429 76.843547 \nL 37.519581 81.410751 \nL 39.991733 84.414488 \nL 42.463884 86.506285 \nL 44.936036 88.11083 \nL 47.408188 89.400711 \nL 49.88034 90.507195 \nL 52.352492 91.480776 \nL 54.824644 92.34026 \nL 57.296796 93.098444 \nL 59.768948 93.771054 \nL 62.2411 94.36364 \nL 64.713252 94.890486 \nL 67.185403 95.373504 \nL 69.657555 95.809348 \nL 72.129707 96.203517 \nL 74.601859 96.577756 \nL 77.074011 96.916075 \nL 79.546163 97.238193 \nL 82.018315 97.536724 \nL 84.490467 97.820538 \nL 86.962619 98.083178 \nL 89.434771 98.335998 \nL 91.906922 98.584199 \nL 94.379074 98.815783 \nL 96.851226 99.04252 \nL 99.323378 99.262058 \nL 101.79553 99.470649 \nL 104.267682 99.680635 \nL 106.739834 99.8794 \nL 109.211986 100.078366 \nL 111.684138 100.268237 \nL 114.15629 100.450545 \nL 116.628441 100.627146 \nL 119.100593 100.798299 \nL 121.572745 100.959429 \nL 124.044897 101.121916 \nL 126.517049 101.283816 \nL 128.989201 101.441193 \nL 131.461353 101.589758 \nL 133.933505 101.732036 \nL 136.405657 101.873248 \nL 138.877809 102.013949 \nL 141.34996 102.148621 \nL 143.822112 102.277613 \nL 146.294264 102.406368 \nL 148.766416 102.533465 \nL 151.238568 102.653486 \nL 153.71072 102.767581 \nL 156.182872 102.882327 \nL 158.655024 102.98911 \nL 161.127176 103.094849 \nL 163.599328 103.201177 \nL 166.071479 103.300456 \nL 168.543631 103.390034 \nL 171.015783 103.484358 \nL 173.487935 103.580985 \nL 175.960087 103.673343 \nL 178.432239 103.763679 \nL 180.904391 103.853552 \nL 183.376543 103.934691 \nL 185.848695 104.017996 \nL 188.320847 104.09409 \nL 190.792998 104.166364 \nL 193.26515 104.242464 \nL 195.737302 104.31278 \nL 198.209454 104.382303 \nL 200.681606 104.449724 \nL 203.153758 104.51638 \nL 205.62591 104.581182 \nL 208.098062 104.64374 \nL 210.570214 104.70834 \nL 213.042366 104.767159 \nL 215.514517 104.822398 \nL 217.986669 104.879839 \nL 220.458821 104.943257 \nL 222.930973 105.007234 \nL 225.403125 105.06836 \n\" style=\"fill:none;stroke:#1f77b4;stroke-linecap:square;stroke-width:1.5;\"/>\n   </g>\n   <g id=\"line2d_20\">\n    <path clip-path=\"url(#p15dd939e30)\" d=\"M 30.103125 84.583487 \nL 32.575277 45.026145 \nL 35.047429 41.645887 \nL 37.519581 39.775528 \nL 39.991733 38.552988 \nL 42.463884 37.786695 \nL 44.936036 37.176686 \nL 47.408188 36.695232 \nL 49.88034 36.284358 \nL 52.352492 35.974312 \nL 54.824644 35.586124 \nL 57.296796 35.313889 \nL 59.768948 35.013926 \nL 62.2411 34.85008 \nL 64.713252 34.676152 \nL 67.185403 34.529951 \nL 69.657555 34.318212 \nL 72.129707 34.045977 \nL 74.601859 33.945149 \nL 77.074011 33.796428 \nL 79.546163 33.705682 \nL 82.018315 33.645186 \nL 84.490467 33.536796 \nL 86.962619 33.491423 \nL 89.434771 33.420843 \nL 91.906922 33.370429 \nL 94.379074 33.304891 \nL 96.851226 33.241874 \nL 99.323378 33.183898 \nL 101.79553 33.163732 \nL 104.267682 33.105756 \nL 106.739834 32.979721 \nL 109.211986 32.891496 \nL 111.684138 32.800751 \nL 114.15629 32.742775 \nL 116.628441 32.694882 \nL 119.100593 32.624302 \nL 121.572745 32.604137 \nL 124.044897 32.541119 \nL 126.517049 32.47306 \nL 128.989201 32.430208 \nL 131.461353 32.420126 \nL 133.933505 32.379794 \nL 136.405657 32.367191 \nL 138.877809 32.306694 \nL 141.34996 32.299132 \nL 143.822112 32.286528 \nL 146.294264 32.231073 \nL 148.766416 32.188221 \nL 151.238568 32.135286 \nL 153.71072 32.082352 \nL 156.182872 32.064707 \nL 158.655024 32.014293 \nL 161.127176 32.011772 \nL 163.599328 31.976482 \nL 166.071479 31.943713 \nL 168.543631 31.941193 \nL 171.015783 31.928589 \nL 173.487935 31.93111 \nL 175.960087 31.890779 \nL 178.432239 31.898341 \nL 180.904391 31.852968 \nL 183.376543 31.817678 \nL 185.848695 31.800033 \nL 188.320847 31.731974 \nL 190.792998 31.676519 \nL 193.26515 31.661395 \nL 195.737302 31.658874 \nL 198.209454 31.64375 \nL 200.681606 31.613502 \nL 203.153758 31.568129 \nL 205.62591 31.547963 \nL 208.098062 31.495029 \nL 210.570214 31.479905 \nL 213.042366 31.489987 \nL 215.514517 31.479905 \nL 217.986669 31.42697 \nL 220.458821 31.424449 \nL 222.930973 31.384118 \nL 225.403125 31.379077 \n\" style=\"fill:none;stroke:#bf00bf;stroke-dasharray:5.55,2.4;stroke-dashoffset:0;stroke-width:1.5;\"/>\n   </g>\n   <g id=\"line2d_21\">\n    <path clip-path=\"url(#p15dd939e30)\" d=\"M 30.103125 49.928906 \nL 32.575277 43.788482 \nL 35.047429 41.625721 \nL 37.519581 40.415785 \nL 39.991733 39.720072 \nL 42.463884 38.903365 \nL 44.936036 38.510136 \nL 47.408188 37.995913 \nL 49.88034 37.572436 \nL 52.352492 37.179207 \nL 54.824644 36.967468 \nL 57.296796 36.891847 \nL 59.768948 36.816226 \nL 62.2411 36.559115 \nL 64.713252 36.347376 \nL 67.185403 36.241506 \nL 69.657555 36.286879 \nL 72.129707 36.286879 \nL 74.601859 36.060016 \nL 77.074011 35.984395 \nL 79.546163 35.939022 \nL 82.018315 35.772656 \nL 84.490467 35.697035 \nL 86.962619 35.560917 \nL 89.434771 35.4248 \nL 91.906922 35.4248 \nL 94.379074 35.364303 \nL 96.851226 35.379427 \nL 99.323378 35.303806 \nL 101.79553 35.13744 \nL 104.267682 35.076943 \nL 106.739834 35.061819 \nL 109.211986 34.865204 \nL 111.684138 34.880329 \nL 114.15629 34.804708 \nL 116.628441 34.895453 \nL 119.100593 34.85008 \nL 121.572745 34.880329 \nL 124.044897 34.729087 \nL 126.517049 34.729087 \nL 128.989201 34.502224 \nL 131.461353 34.396354 \nL 133.933505 34.396354 \nL 136.405657 34.426603 \nL 138.877809 34.426603 \nL 141.34996 34.38123 \nL 143.822112 34.411478 \nL 146.294264 34.350982 \nL 148.766416 34.290485 \nL 151.238568 34.350982 \nL 153.71072 34.229988 \nL 156.182872 34.305609 \nL 158.655024 34.229988 \nL 161.127176 34.169491 \nL 163.599328 34.19974 \nL 166.071479 34.169491 \nL 168.543631 34.139243 \nL 171.015783 34.124119 \nL 173.487935 34.063622 \nL 175.960087 34.154367 \nL 178.432239 34.184615 \nL 180.904391 34.214864 \nL 183.376543 34.063622 \nL 185.848695 34.018249 \nL 188.320847 34.063622 \nL 190.792998 34.063622 \nL 193.26515 33.972877 \nL 195.737302 34.048498 \nL 198.209454 33.957752 \nL 200.681606 33.957752 \nL 203.153758 33.897256 \nL 205.62591 33.851883 \nL 208.098062 33.882131 \nL 210.570214 33.927504 \nL 213.042366 33.867007 \nL 215.514517 33.80651 \nL 217.986669 33.867007 \nL 220.458821 33.776262 \nL 222.930973 33.867007 \nL 225.403125 33.851883 \n\" style=\"fill:none;stroke:#008000;stroke-dasharray:9.6,2.4,1.5,2.4;stroke-dashoffset:0;stroke-width:1.5;\"/>\n   </g>\n   <g id=\"patch_3\">\n    <path d=\"M 30.103125 146.899219 \nL 30.103125 10.999219 \n\" style=\"fill:none;stroke:#000000;stroke-linecap:square;stroke-linejoin:miter;stroke-width:0.8;\"/>\n   </g>\n   <g id=\"patch_4\">\n    <path d=\"M 225.403125 146.899219 \nL 225.403125 10.999219 \n\" style=\"fill:none;stroke:#000000;stroke-linecap:square;stroke-linejoin:miter;stroke-width:0.8;\"/>\n   </g>\n   <g id=\"patch_5\">\n    <path d=\"M 30.103125 146.899219 \nL 225.403125 146.899219 \n\" style=\"fill:none;stroke:#000000;stroke-linecap:square;stroke-linejoin:miter;stroke-width:0.8;\"/>\n   </g>\n   <g id=\"patch_6\">\n    <path d=\"M 30.103125 10.999219 \nL 225.403125 10.999219 \n\" style=\"fill:none;stroke:#000000;stroke-linecap:square;stroke-linejoin:miter;stroke-width:0.8;\"/>\n   </g>\n   <g id=\"legend_1\">\n    <g id=\"patch_7\">\n     <path d=\"M 140.634375 102.466406 \nL 218.403125 102.466406 \nQ 220.403125 102.466406 220.403125 100.466406 \nL 220.403125 57.432031 \nQ 220.403125 55.432031 218.403125 55.432031 \nL 140.634375 55.432031 \nQ 138.634375 55.432031 138.634375 57.432031 \nL 138.634375 100.466406 \nQ 138.634375 102.466406 140.634375 102.466406 \nz\n\" style=\"fill:#ffffff;opacity:0.8;stroke:#cccccc;stroke-linejoin:miter;\"/>\n    </g>\n    <g id=\"line2d_22\">\n     <path d=\"M 142.634375 63.530469 \nL 162.634375 63.530469 \n\" style=\"fill:none;stroke:#1f77b4;stroke-linecap:square;stroke-width:1.5;\"/>\n    </g>\n    <g id=\"line2d_23\"/>\n    <g id=\"text_11\">\n     <!-- train loss -->\n     <defs>\n      <path d=\"M 18.3125 70.21875 \nL 18.3125 54.6875 \nL 36.8125 54.6875 \nL 36.8125 47.703125 \nL 18.3125 47.703125 \nL 18.3125 18.015625 \nQ 18.3125 11.328125 20.140625 9.421875 \nQ 21.96875 7.515625 27.59375 7.515625 \nL 36.8125 7.515625 \nL 36.8125 0 \nL 27.59375 0 \nQ 17.1875 0 13.234375 3.875 \nQ 9.28125 7.765625 9.28125 18.015625 \nL 9.28125 47.703125 \nL 2.6875 47.703125 \nL 2.6875 54.6875 \nL 9.28125 54.6875 \nL 9.28125 70.21875 \nz\n\" id=\"DejaVuSans-116\"/>\n      <path d=\"M 41.109375 46.296875 \nQ 39.59375 47.171875 37.8125 47.578125 \nQ 36.03125 48 33.890625 48 \nQ 26.265625 48 22.1875 43.046875 \nQ 18.109375 38.09375 18.109375 28.8125 \nL 18.109375 0 \nL 9.078125 0 \nL 9.078125 54.6875 \nL 18.109375 54.6875 \nL 18.109375 46.1875 \nQ 20.953125 51.171875 25.484375 53.578125 \nQ 30.03125 56 36.53125 56 \nQ 37.453125 56 38.578125 55.875 \nQ 39.703125 55.765625 41.0625 55.515625 \nz\n\" id=\"DejaVuSans-114\"/>\n      <path d=\"M 34.28125 27.484375 \nQ 23.390625 27.484375 19.1875 25 \nQ 14.984375 22.515625 14.984375 16.5 \nQ 14.984375 11.71875 18.140625 8.90625 \nQ 21.296875 6.109375 26.703125 6.109375 \nQ 34.1875 6.109375 38.703125 11.40625 \nQ 43.21875 16.703125 43.21875 25.484375 \nL 43.21875 27.484375 \nz\nM 52.203125 31.203125 \nL 52.203125 0 \nL 43.21875 0 \nL 43.21875 8.296875 \nQ 40.140625 3.328125 35.546875 0.953125 \nQ 30.953125 -1.421875 24.3125 -1.421875 \nQ 15.921875 -1.421875 10.953125 3.296875 \nQ 6 8.015625 6 15.921875 \nQ 6 25.140625 12.171875 29.828125 \nQ 18.359375 34.515625 30.609375 34.515625 \nL 43.21875 34.515625 \nL 43.21875 35.40625 \nQ 43.21875 41.609375 39.140625 45 \nQ 35.0625 48.390625 27.6875 48.390625 \nQ 23 48.390625 18.546875 47.265625 \nQ 14.109375 46.140625 10.015625 43.890625 \nL 10.015625 52.203125 \nQ 14.9375 54.109375 19.578125 55.046875 \nQ 24.21875 56 28.609375 56 \nQ 40.484375 56 46.34375 49.84375 \nQ 52.203125 43.703125 52.203125 31.203125 \nz\n\" id=\"DejaVuSans-97\"/>\n      <path d=\"M 9.421875 54.6875 \nL 18.40625 54.6875 \nL 18.40625 0 \nL 9.421875 0 \nz\nM 9.421875 75.984375 \nL 18.40625 75.984375 \nL 18.40625 64.59375 \nL 9.421875 64.59375 \nz\n\" id=\"DejaVuSans-105\"/>\n      <path d=\"M 54.890625 33.015625 \nL 54.890625 0 \nL 45.90625 0 \nL 45.90625 32.71875 \nQ 45.90625 40.484375 42.875 44.328125 \nQ 39.84375 48.1875 33.796875 48.1875 \nQ 26.515625 48.1875 22.3125 43.546875 \nQ 18.109375 38.921875 18.109375 30.90625 \nL 18.109375 0 \nL 9.078125 0 \nL 9.078125 54.6875 \nL 18.109375 54.6875 \nL 18.109375 46.1875 \nQ 21.34375 51.125 25.703125 53.5625 \nQ 30.078125 56 35.796875 56 \nQ 45.21875 56 50.046875 50.171875 \nQ 54.890625 44.34375 54.890625 33.015625 \nz\n\" id=\"DejaVuSans-110\"/>\n      <path id=\"DejaVuSans-32\"/>\n      <path d=\"M 9.421875 75.984375 \nL 18.40625 75.984375 \nL 18.40625 0 \nL 9.421875 0 \nz\n\" id=\"DejaVuSans-108\"/>\n      <path d=\"M 44.28125 53.078125 \nL 44.28125 44.578125 \nQ 40.484375 46.53125 36.375 47.5 \nQ 32.28125 48.484375 27.875 48.484375 \nQ 21.1875 48.484375 17.84375 46.4375 \nQ 14.5 44.390625 14.5 40.28125 \nQ 14.5 37.15625 16.890625 35.375 \nQ 19.28125 33.59375 26.515625 31.984375 \nL 29.59375 31.296875 \nQ 39.15625 29.25 43.1875 25.515625 \nQ 47.21875 21.78125 47.21875 15.09375 \nQ 47.21875 7.46875 41.1875 3.015625 \nQ 35.15625 -1.421875 24.609375 -1.421875 \nQ 20.21875 -1.421875 15.453125 -0.5625 \nQ 10.6875 0.296875 5.421875 2 \nL 5.421875 11.28125 \nQ 10.40625 8.6875 15.234375 7.390625 \nQ 20.0625 6.109375 24.8125 6.109375 \nQ 31.15625 6.109375 34.5625 8.28125 \nQ 37.984375 10.453125 37.984375 14.40625 \nQ 37.984375 18.0625 35.515625 20.015625 \nQ 33.0625 21.96875 24.703125 23.78125 \nL 21.578125 24.515625 \nQ 13.234375 26.265625 9.515625 29.90625 \nQ 5.8125 33.546875 5.8125 39.890625 \nQ 5.8125 47.609375 11.28125 51.796875 \nQ 16.75 56 26.8125 56 \nQ 31.78125 56 36.171875 55.265625 \nQ 40.578125 54.546875 44.28125 53.078125 \nz\n\" id=\"DejaVuSans-115\"/>\n     </defs>\n     <g transform=\"translate(170.634375 67.030469)scale(0.1 -0.1)\">\n      <use xlink:href=\"#DejaVuSans-116\"/>\n      <use x=\"39.208984\" xlink:href=\"#DejaVuSans-114\"/>\n      <use x=\"80.322266\" xlink:href=\"#DejaVuSans-97\"/>\n      <use x=\"141.601562\" xlink:href=\"#DejaVuSans-105\"/>\n      <use x=\"169.384766\" xlink:href=\"#DejaVuSans-110\"/>\n      <use x=\"232.763672\" xlink:href=\"#DejaVuSans-32\"/>\n      <use x=\"264.550781\" xlink:href=\"#DejaVuSans-108\"/>\n      <use x=\"292.333984\" xlink:href=\"#DejaVuSans-111\"/>\n      <use x=\"353.515625\" xlink:href=\"#DejaVuSans-115\"/>\n      <use x=\"405.615234\" xlink:href=\"#DejaVuSans-115\"/>\n     </g>\n    </g>\n    <g id=\"line2d_24\">\n     <path d=\"M 142.634375 78.208594 \nL 162.634375 78.208594 \n\" style=\"fill:none;stroke:#bf00bf;stroke-dasharray:5.55,2.4;stroke-dashoffset:0;stroke-width:1.5;\"/>\n    </g>\n    <g id=\"line2d_25\"/>\n    <g id=\"text_12\">\n     <!-- train acc -->\n     <g transform=\"translate(170.634375 81.708594)scale(0.1 -0.1)\">\n      <use xlink:href=\"#DejaVuSans-116\"/>\n      <use x=\"39.208984\" xlink:href=\"#DejaVuSans-114\"/>\n      <use x=\"80.322266\" xlink:href=\"#DejaVuSans-97\"/>\n      <use x=\"141.601562\" xlink:href=\"#DejaVuSans-105\"/>\n      <use x=\"169.384766\" xlink:href=\"#DejaVuSans-110\"/>\n      <use x=\"232.763672\" xlink:href=\"#DejaVuSans-32\"/>\n      <use x=\"264.550781\" xlink:href=\"#DejaVuSans-97\"/>\n      <use x=\"325.830078\" xlink:href=\"#DejaVuSans-99\"/>\n      <use x=\"380.810547\" xlink:href=\"#DejaVuSans-99\"/>\n     </g>\n    </g>\n    <g id=\"line2d_26\">\n     <path d=\"M 142.634375 92.886719 \nL 162.634375 92.886719 \n\" style=\"fill:none;stroke:#008000;stroke-dasharray:9.6,2.4,1.5,2.4;stroke-dashoffset:0;stroke-width:1.5;\"/>\n    </g>\n    <g id=\"line2d_27\"/>\n    <g id=\"text_13\">\n     <!-- test acc -->\n     <g transform=\"translate(170.634375 96.386719)scale(0.1 -0.1)\">\n      <use xlink:href=\"#DejaVuSans-116\"/>\n      <use x=\"39.208984\" xlink:href=\"#DejaVuSans-101\"/>\n      <use x=\"100.732422\" xlink:href=\"#DejaVuSans-115\"/>\n      <use x=\"152.832031\" xlink:href=\"#DejaVuSans-116\"/>\n      <use x=\"192.041016\" xlink:href=\"#DejaVuSans-32\"/>\n      <use x=\"223.828125\" xlink:href=\"#DejaVuSans-97\"/>\n      <use x=\"285.107422\" xlink:href=\"#DejaVuSans-99\"/>\n      <use x=\"340.087891\" xlink:href=\"#DejaVuSans-99\"/>\n     </g>\n    </g>\n   </g>\n  </g>\n </g>\n <defs>\n  <clipPath id=\"p15dd939e30\">\n   <rect height=\"135.9\" width=\"195.3\" x=\"30.103125\" y=\"10.999219\"/>\n  </clipPath>\n </defs>\n</svg>\n"
          },
          "metadata": {
            "needs_background": "light"
          }
        }
      ],
      "source": [
        "#Code 16\n",
        "\n",
        "num_epochs = 80\n",
        "train_ch3(net, fashion_train_iter, fashion_test_iter, loss, num_epochs, optimizer)\n",
        "mu.evaluate_accuracy(net, fashion_test_iter)"
      ]
    }
  ]
}